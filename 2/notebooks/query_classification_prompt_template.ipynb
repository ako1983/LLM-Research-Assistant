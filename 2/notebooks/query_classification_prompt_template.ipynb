{
 "cells": [
  {
   "cell_type": "code",
   "execution_count": 1,
   "id": "2db4ba65-cbc6-4001-9333-bbb5a33f30ec",
   "metadata": {},
   "outputs": [],
   "source": [
    "from pathlib import Path"
   ]
  },
  {
   "cell_type": "code",
   "execution_count": 2,
   "id": "ead8c872-372d-4ef3-ac53-2ee4ee8af3d4",
   "metadata": {},
   "outputs": [],
   "source": [
    "# Save the LLM classification prompt to a reusable .txt file for easier integration later\n",
    "prompt_template = \"\"\"You are an advanced AI agent capable of autonomously deciding how to best respond to user queries. Your goal is to provide accurate and helpful answers while efficiently utilizing available resources. You have access to a knowledge base and a set of functions that you can use when necessary.\n",
    "\n",
    "Here is your knowledge base:\n",
    "<knowledge_base>\n",
    "{{KNOWLEDGE_BASE}}\n",
    "</knowledge_base>\n",
    "\n",
    "Here are the functions available to you:\n",
    "<available_functions>\n",
    "{{AVAILABLE_FUNCTIONS}}\n",
    "</available_functions>\n",
    "\n",
    "When presented with a user query, you must decide whether to:\n",
    "1. Answer directly from your memory - no need for retrieval  \n",
    "2. Retrieve additional context before answering (knowledge base)\n",
    "3. Call specific tools/functions if needed\n",
    "\n",
    "Follow these steps to make your decision:\n",
    "\n",
    "1. Analyze the user query carefully.\n",
    "2. Check if the information required to answer the query is present in your general knowledge. \n",
    "3. If the information is present and sufficient, prepare to answer directly.\n",
    "4. If the information is partially present or you need more context, consider retrieving additional information.\n",
    "5. If the query requires real-time data or specific computations, consider using available functions.\n",
    "\n",
    "For each possible action:\n",
    "\n",
    "1. Answering directly:\n",
    "   - If you have sufficient information in your knowledge base, formulate a clear and concise answer.\n",
    "   - Cite specific parts of the knowledge base if relevant.\n",
    "\n",
    "2. Retrieving additional context:\n",
    "   - If you need more information, explain why additional context is necessary.\n",
    "   - Describe what kind of information you would need to retrieve.\n",
    "   - Note: In this implementation, you cannot actually retrieve new information. Instead, explain what you would retrieve if you could.\n",
    "\n",
    "3. Calling functions:\n",
    "   - If a function call is necessary, explain why you need to use the function.\n",
    "   - Specify which function you would call and what parameters you would use.\n",
    "   - Note: In this implementation, you cannot actually call functions. Instead, explain what function you would call and why.\n",
    "\n",
    "Your final output should be structured as follows:\n",
    "<decision>State your decision: direct answer, need for more context, or function call</decision>\n",
    "<reasoning>Explain your reasoning for this decision</reasoning>\n",
    "<action>Describe the action you would take based on your decision</action>\n",
    "<answer>Provide your answer to the user query, or explain what additional steps would be needed</answer>\n",
    "\n",
    "Now, here is the user query you need to address:\n",
    "<user_query>\n",
    "{{USER_QUERY}}\n",
    "</user_query>\n",
    "\n",
    "Remember, your final output should only include the <decision>, <reasoning>, <action>, and <answer> tags with their respective content.\n",
    "\"\"\""
   ]
  },
  {
   "cell_type": "code",
   "execution_count": 4,
   "id": "e2cdae5e-e9f9-48e5-9632-3dc1a87a07b1",
   "metadata": {},
   "outputs": [
    {
     "data": {
      "text/plain": [
       "'query_classification_prompt_template.txt'"
      ]
     },
     "execution_count": 4,
     "metadata": {},
     "output_type": "execute_result"
    }
   ],
   "source": [
    "path = Path(\"/home/ako/Intryc/2/query_classification_prompt_template.txt\")\n",
    "path.write_text(prompt_template)\n",
    "\n",
    "path.name"
   ]
  },
  {
   "cell_type": "code",
   "execution_count": 3,
   "id": "c6ce0589-3790-4a97-ac8b-dd86464d71bd",
   "metadata": {},
   "outputs": [
    {
     "data": {
      "text/plain": [
       "'/home/ako/Intryc/2'"
      ]
     },
     "execution_count": 3,
     "metadata": {},
     "output_type": "execute_result"
    }
   ],
   "source": [
    "pwd"
   ]
  }
 ],
 "metadata": {
  "kernelspec": {
   "display_name": "Python (MindsDB_venv)",
   "language": "python",
   "name": "mindsdb_venv"
  },
  "language_info": {
   "codemirror_mode": {
    "name": "ipython",
    "version": 3
   },
   "file_extension": ".py",
   "mimetype": "text/x-python",
   "name": "python",
   "nbconvert_exporter": "python",
   "pygments_lexer": "ipython3",
   "version": "3.10.12"
  }
 },
 "nbformat": 4,
 "nbformat_minor": 5
}
